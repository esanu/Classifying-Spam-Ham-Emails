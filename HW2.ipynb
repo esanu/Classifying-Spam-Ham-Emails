{
 "cells": [
  {
   "cell_type": "markdown",
   "metadata": {},
   "source": [
    "# HW 2: Clustering and Topic Models [100 points]"
   ]
  },
  {
   "cell_type": "markdown",
   "metadata": {},
   "source": [
    "Name: Sayo Sanu\n",
    "\n",
    "Andrew ID: esanu\n",
    "\n",
    "Collaborators (if none, say \"none\"; do *not* leave this blank): \n",
    "https://scikit-learn.org/stable/user_guide.html\n",
    "https://stackoverflow.com/\n",
    "https://www.youtube.com/watch?v=3mHy4OSyRf0\n",
    "\n",
    "Reminder: you should not be sharing code."
   ]
  },
  {
   "cell_type": "markdown",
   "metadata": {},
   "source": [
    "## Question 1: Clustering emails using Gaussian Mixture Models [50 pts]"
   ]
  },
  {
   "cell_type": "markdown",
   "metadata": {},
   "source": [
    "For this problem, we will be analyzing emails taken from the [Enron Email Dataset](https://www.cs.cmu.edu/~enron/). Data is provided in the `enron` data directory, with one file per email. The data set includes a combination of \"spam\" and \"ham\" emails. Spam emails are unsolicited messages intended to sell a product or scam users into providing personal information, while ham emails represent everything that is not spam. \n",
    "\n",
    "The language used in spam emails tends to be considerably different from typical business emails. Most spam filters leverage this difference in word frequencies to detect spam as it arrives and filter it out of email inboxes. We will use Gaussian Mixture Models (GMMs) to cluster the emails and attempt to identify groups of emails which are likely to be spam."
   ]
  },
  {
   "cell_type": "markdown",
   "metadata": {},
   "source": [
    "### Part A: Construct a list of processed documents [10 points]"
   ]
  },
  {
   "cell_type": "markdown",
   "metadata": {},
   "source": [
    "Provided below is a function that returns a document present in a file given a filename. The function performs some preprocessing to (1) remove punctuation, (2),(3) remove whitespace and (4) lowercase all words. Using the makeWordList function, construct a list of processed documents."
   ]
  },
  {
   "cell_type": "code",
   "execution_count": 282,
   "metadata": {},
   "outputs": [],
   "source": [
    "import re\n",
    "import string\n",
    "import codecs\n",
    "\n",
    "def makeWordList(path):\n",
    "    \n",
    "    with codecs.open(path, \"r\", encoding='utf-8', errors='ignore') as f:\n",
    "        corpus_text = f.read()\n",
    "\n",
    "    for c in string.punctuation:\n",
    "        corpus_text = corpus_text.replace(c, \"\")  # -- (1)\n",
    "    \n",
    "    text = re.sub(r'\\S*\\d\\S*', '', corpus_text) # -- (2)\n",
    "    text = re.sub(r'[^\\w\\s]', '', text)         # -- (3)\n",
    "    \n",
    "    text = text.lower().split()           # -- (4)         \n",
    "    \n",
    "    li = []\n",
    "    for token in text:\n",
    "        li.append(token)\n",
    "\n",
    "    return \" \".join(li)"
   ]
  },
  {
   "cell_type": "code",
   "execution_count": 283,
   "metadata": {},
   "outputs": [],
   "source": [
    "########################################################################\n",
    "######################### Write your code here #########################\n",
    "import glob\n",
    "\n",
    "all_files = glob.glob('./data/enron/*.txt')  #add all files to a list\n",
    "processed_docs = []\n",
    "for each_file in all_files:\n",
    "    processed_doc = makeWordList(each_file)\n",
    "    processed_docs.append(processed_doc)\n",
    "########################################################################"
   ]
  },
  {
   "cell_type": "markdown",
   "metadata": {},
   "source": [
    "### Part B: Construct a document matrix [10 points]"
   ]
  },
  {
   "cell_type": "markdown",
   "metadata": {},
   "source": [
    "Next, construct a document matrix `X` as a matrix of [TF-IDF](https://en.wikipedia.org/wiki/Tf%E2%80%93idf) features for each document. TF-IDF features encode information about the word frequency within a document, weighted by the frequency of the same word for corpus as a whole.\n",
    "\n",
    "   - Use the `TfidfVectorizer` from [scikit-learn](http://scikit-learn.org/stable/modules/generated/sklearn.feature_extraction.text.TfidfVectorizer.html) to create the document matrix `X`.\n",
    "   - Set `min_df=50`; this drops words that don't occur in at least 50 documents.\n",
    "   - Set `stop_words=\"english\"` and `max_df=0.8` to filter out stop-words.\n",
    "   - Print the number of unique words in the vocabulary Hint: Look for the `vocabulary_` attribute in the `TfidfVectorizer` object after fitting the vectorizer to the data set. The vocabulary will also be needed in part (d)."
   ]
  },
  {
   "cell_type": "code",
   "execution_count": 284,
   "metadata": {},
   "outputs": [
    {
     "name": "stdout",
     "output_type": "stream",
     "text": [
      "There are 1680 unique words in the dictionary\n"
     ]
    }
   ],
   "source": [
    "########################################################################\n",
    "######################### Write your code here #########################\n",
    "from sklearn.feature_extraction.text import TfidfVectorizer\n",
    "vectorizer = TfidfVectorizer(min_df=50, stop_words='english', max_df=0.8)\n",
    "X = vectorizer.fit_transform(processed_docs)\n",
    "\n",
    "print('There are', X.shape[1], 'unique words in the dictionary')\n",
    "########################################################################"
   ]
  },
  {
   "cell_type": "markdown",
   "metadata": {},
   "source": [
    "### Part C: Perform Clustering [10 points]"
   ]
  },
  {
   "cell_type": "markdown",
   "metadata": {},
   "source": [
    "Perform clustering on the document matrix X using GMMs. \n",
    "- Use the `GaussianMixture` module from [scikit-learn](http://scikit-learn.org/stable/modules/generated/sklearn.mixture.GaussianMixture.html) to cluster the documents.\n",
    "- Set the number of clusters (mixture components) to 3.\n",
    "- Print the number of documents assigned to each cluster."
   ]
  },
  {
   "cell_type": "code",
   "execution_count": 285,
   "metadata": {},
   "outputs": [
    {
     "name": "stdout",
     "output_type": "stream",
     "text": [
      "Cluster 0 has 485 documents\n",
      "Cluster 1 has 365 documents\n",
      "Cluster 2 has 4321 documents\n"
     ]
    }
   ],
   "source": [
    "########################################################################\n",
    "######################### Write your code here #########################\n",
    "from sklearn.mixture import GaussianMixture\n",
    "%matplotlib inline\n",
    "import matplotlib.pyplot as plt\n",
    "import numpy as np\n",
    "\n",
    "gmm = GaussianMixture(n_components=3, n_init=200, random_state=0)\n",
    "doc_clusters = gmm.fit_predict(X.toarray())\n",
    "\n",
    "for cluster in range(doc_clusters.max() + 1):\n",
    "    print('Cluster', cluster, 'has', np.count_nonzero([doc_clusters == cluster]), 'documents')  #using mask, print non-zero count\n",
    "\n",
    "########################################################################"
   ]
  },
  {
   "cell_type": "markdown",
   "metadata": {},
   "source": [
    "### Part D: Characterize the clusters [10 points]"
   ]
  },
  {
   "cell_type": "markdown",
   "metadata": {},
   "source": [
    "Now, we will attempt to characterize the clusters based on the frequency of spam-relevant words. \n",
    "- Select 3 \"spammy\" words from the vocabulary that you expect to occur frequently in spam emails and less frequently in normal business emails (e.g., 'click', 'www', 'offer'). Construct a list, `spam_indices`, storing the indices of the spammy words you selected in the vocabulary generated by `TfidfVectorizer`.\n",
    "- Select 3 \"hammy\" words from the vocabulary you think will occur frequently in business emails and infrequently in spam emails (e.g., 'meeting', 'attached', 'review'). Construct a list, `ham_indices`, storing the indices of the hammy words you selected in the vocabulary generated by `TfidfVectorizer`.\n",
    "- Use the function provided below, `plot_spam_words_by_cluster`, to plot the average TF-IDF features for your selected spammy words and hammy words for each cluster. The function takes four parameters:\n",
    "    - `predicted` is predicted cluster assignments returned by `GaussianMixture.predict()`\n",
    "    - `n_clusters` is the number of clusters. This should match the number of clusters from your GMM.\n",
    "    - `spam_indices` is a list of indices of spammy words in the vocabulary.\n",
    "    - `ham_indices` is a list of indices of hammy (typical business) words in the vocabulary."
   ]
  },
  {
   "cell_type": "code",
   "execution_count": 286,
   "metadata": {},
   "outputs": [],
   "source": [
    "def plot_spam_words_by_cluster(predicted, n_clusters, spam_indices, ham_indices):\n",
    "    import numpy as np\n",
    "    import matplotlib.pyplot as plt\n",
    "    \n",
    "    # Calculate mean TF-IDF features for each cluster\n",
    "    mean_tfidf_spam = []\n",
    "    mean_tfidf_ham = []\n",
    "    for spam in spam_indices:\n",
    "        mean_tfidf_spam.append([])\n",
    "    for ham in ham_indices:\n",
    "        mean_tfidf_ham.append([])\n",
    "    \n",
    "    for i in range(n_clusters):\n",
    "        for j, spam_idx in enumerate(spam_indices):\n",
    "            mean_tfidf_spam[j].append(X[predicted==i, spam_idx].mean())\n",
    "        for j, ham_idx in enumerate(ham_indices):\n",
    "            mean_tfidf_ham[j].append(X[predicted==i, ham_idx].mean())\n",
    "    \n",
    "    # Generate plot\n",
    "    fig, ax = plt.subplots()\n",
    "\n",
    "    ind = np.arange(n_clusters)    # the x locations for the groups\n",
    "    width = 0.10         # the width of the bars\n",
    "\n",
    "    # Plot spam bars\n",
    "    for i, val in enumerate(mean_tfidf_spam):\n",
    "        spam_bar = ax.bar(ind - (len(mean_tfidf_spam)-i-1)*width, val, width, color='r', bottom=0)\n",
    "\n",
    "    # Plot ham bars\n",
    "    for i, val in enumerate(mean_tfidf_ham):\n",
    "        ham_bar = ax.bar(ind + (len(mean_tfidf_ham)-i)*width, val, width,\n",
    "                color='y', bottom=0)\n",
    "\n",
    "    ax.set_title('Mean TF-IDF Features by Cluster for Spam-Relevant Words')\n",
    "    ax.set_xticks(ind + width / 2)\n",
    "    xticklabels = []\n",
    "    for i in range(n_clusters):\n",
    "        xticklabels.append('Cluster ' + str(i) + '\\n(n=' + str((predicted==i).sum()) + ')')\n",
    "    ax.set_xticklabels(xticklabels)\n",
    "\n",
    "    ax.legend((spam_bar[0], ham_bar[0]), ('Spammy words', 'Hammy words'))\n",
    "    ax.autoscale_view()\n",
    "    ax.set_ylabel('Mean TF-IDF')\n",
    "    plt.show()"
   ]
  },
  {
   "cell_type": "code",
   "execution_count": 287,
   "metadata": {},
   "outputs": [
    {
     "data": {
      "image/png": "[encoded data removed]",
      "text/plain": [
       "<Figure size 432x288 with 1 Axes>"
      ]
     },
     "metadata": {
      "needs_background": "light"
     },
     "output_type": "display_data"
    }
   ],
   "source": [
    "########################################################################\n",
    "######################### Write your code here #########################\n",
    "spam_indices = []\n",
    "for word in ['click', 'www', 'offer']:\n",
    "    index = vectorizer.vocabulary_[word]\n",
    "    spam_indices.append(index)\n",
    "    \n",
    "ham_indices = []\n",
    "for word in ['meeting', 'attached', 'review']:\n",
    "    index = vectorizer.vocabulary_[word]\n",
    "    ham_indices.append(index)\n",
    "\n",
    "num_clusters = 3\n",
    "plot_spam_words_by_cluster(doc_clusters, num_clusters, spam_indices, ham_indices)\n",
    "########################################################################"
   ]
  },
  {
   "cell_type": "markdown",
   "metadata": {},
   "source": [
    "### Part E: Interpret results [10 points]"
   ]
  },
  {
   "cell_type": "markdown",
   "metadata": {},
   "source": [
    "From the plot generated in part (d), do any of the clusters correspond to spam emails, based on the frequency of spammy and hammy words? Do any of the clusters appear to correspond to typical business emails (ham)? \n",
    "\n",
    "Re-run your analysis with a different choice for the number of clusters in your GMM (e.g., `n_clusters=5` or `n_clusters=2`). How does changing the number of clusters affect your results? Does one choice of `n_clusters` appear better than another for locating clusters of spam emails?"
   ]
  },
  {
   "cell_type": "markdown",
   "metadata": {},
   "source": [
    "Based on the plot generated, when there are 3 clusters, cluster 0 appears to be correlated with spammy emails. Cluster 1 and 2 appear to have a split between hammy and spammy emails, with cluster 1 having a higher frequency of hammy words, and cluster 2 having a higher frequency of spam. \n",
    "\n",
    "Changing the number of clusters to 2 makes the result appear worse. Though the frequency of spammy words in cluster 0 is higher, the clusters are not as well defined. Using the selected spammy and hammy words, we can find both types of emails in both clusters. \n",
    "\n",
    "Changing the number of clusters to 5 has a better result. Clusters 0 - 3 have a very high frequency  of spammy words, indicating that those clusters are related to spammy emails. Cluster 4, on the other hand, has a high frequency of hammy words. "
   ]
  },
  {
   "cell_type": "code",
   "execution_count": null,
   "metadata": {},
   "outputs": [],
   "source": [
    "########################################################################\n",
    "######################### Write your code here #########################\n",
    "num_cluster2 = 2\n",
    "gmm2 = GaussianMixture(n_components=num_cluster2, n_init=200, random_state=0)\n",
    "doc_clusters2 = gmm2.fit_predict(X.toarray())\n",
    "\n",
    "num_cluster3 = 5\n",
    "gmm3 = GaussianMixture(n_components=num_cluster3, n_init=200, random_state=0)\n",
    "doc_clusters3 = gmm3.fit_predict(X.toarray())\n",
    "########################################################################"
   ]
  },
  {
   "cell_type": "code",
   "execution_count": 292,
   "metadata": {},
   "outputs": [
    {
     "data": {
      "image/png": "[encoded data removed]",
      "text/plain": [
       "<Figure size 432x288 with 1 Axes>"
      ]
     },
     "metadata": {
      "needs_background": "light"
     },
     "output_type": "display_data"
    },
    {
     "data": {
      "image/png": "[encoded data removed]",
      "text/plain": [
       "<Figure size 432x288 with 1 Axes>"
      ]
     },
     "metadata": {
      "needs_background": "light"
     },
     "output_type": "display_data"
    }
   ],
   "source": [
    "plot_spam_words_by_cluster(doc_clusters2, num_cluster2, spam_indices, ham_indices)\n",
    "plot_spam_words_by_cluster(doc_clusters3, num_cluster3, spam_indices, ham_indices)"
   ]
  },
  {
   "cell_type": "markdown",
   "metadata": {},
   "source": [
    "## Question 2: Latent \"Purposes\" in Mobile Apps [45 points]\n",
    "\n",
    "\n",
    "Think of Android applications as \"documents\", where \"words\" are the \"permissions\" that each app requests. Each app has a set of latent \"purposes\" (topics); a \"purpose\" may be a specific task (such as taking photographs and uploading them to the internet), and an application may have a mixture of purposes of varying strength.\n",
    "\n",
    "Can we uncover these purposes from a dataset of Android applications and the permissions they request?"
   ]
  },
  {
   "cell_type": "code",
   "execution_count": 1,
   "metadata": {},
   "outputs": [],
   "source": [
    "import numpy as np\n",
    "import matplotlib.pyplot as plt\n",
    "import pandas as pd\n",
    "%matplotlib inline"
   ]
  },
  {
   "cell_type": "markdown",
   "metadata": {},
   "source": [
    "### Part A: Load the data [0 points]"
   ]
  },
  {
   "cell_type": "markdown",
   "metadata": {},
   "source": [
    "The [dataset](http://www.mariofrank.net/andrApps/) contains ~180,000 applications from the Android app store, including each app's name, description and permissions requested. For more about Android app permissions, see [this report](http://www.pewinternet.org/2015/11/10/an-analysis-of-android-app-permissions/).\n",
    "\n",
    "   * Download the data and unzip it into the same folder as this notebook.\n",
    "   * Rename the CSV file to \"android.csv\".\n",
    "   * Run the cells below to load the data into the notebook.\n",
    "\n",
    "This may take up ~2GB of RAM."
   ]
  },
  {
   "cell_type": "code",
   "execution_count": 2,
   "metadata": {},
   "outputs": [],
   "source": [
    "df = pd.read_csv(\"android.csv\", sep=\",\",  thousands=\",\")"
   ]
  },
  {
   "cell_type": "code",
   "execution_count": 3,
   "metadata": {},
   "outputs": [],
   "source": [
    "df[\"Number of ratings\"] = df[\"Number of ratings\"].astype(int) # fix data type\n",
    "df = df.drop_duplicates(subset=[\"App\"]).reset_index(drop=True)"
   ]
  },
  {
   "cell_type": "code",
   "execution_count": 4,
   "metadata": {},
   "outputs": [
    {
     "data": {
      "text/html": [
       "<div>\n",
       "<style scoped>\n",
       "    .dataframe tbody tr th:only-of-type {\n",
       "        vertical-align: middle;\n",
       "    }\n",
       "\n",
       "    .dataframe tbody tr th {\n",
       "        vertical-align: top;\n",
       "    }\n",
       "\n",
       "    .dataframe thead th {\n",
       "        text-align: right;\n",
       "    }\n",
       "</style>\n",
       "<table border=\"1\" class=\"dataframe\">\n",
       "  <thead>\n",
       "    <tr style=\"text-align: right;\">\n",
       "      <th></th>\n",
       "      <th>App</th>\n",
       "      <th>Package</th>\n",
       "      <th>Category</th>\n",
       "      <th>Description</th>\n",
       "      <th>Rating</th>\n",
       "      <th>Number of ratings</th>\n",
       "      <th>Price</th>\n",
       "      <th>Related apps</th>\n",
       "      <th>Dangerous permissions count</th>\n",
       "      <th>Safe permissions count</th>\n",
       "      <th>...</th>\n",
       "      <th>Your personal information : read Browser's history and bookmarks (D)</th>\n",
       "      <th>Your personal information : read calendar events (D)</th>\n",
       "      <th>Your personal information : read contact data (D)</th>\n",
       "      <th>Your personal information : read sensitive log data (D)</th>\n",
       "      <th>Your personal information : read user defined dictionary (D)</th>\n",
       "      <th>Your personal information : retrieve system internal state (S)</th>\n",
       "      <th>Your personal information : set alarm in alarm clock (S)</th>\n",
       "      <th>Your personal information : write Browser's history and bookmarks (D)</th>\n",
       "      <th>Your personal information : write contact data (D)</th>\n",
       "      <th>Your personal information : write to user defined dictionary (S)</th>\n",
       "    </tr>\n",
       "  </thead>\n",
       "  <tbody>\n",
       "    <tr>\n",
       "      <th>0</th>\n",
       "      <td>Google Maps</td>\n",
       "      <td>com.google.android.apps.maps</td>\n",
       "      <td>Travel &amp; Local</td>\n",
       "      <td>Download the latest release of Google Maps, an...</td>\n",
       "      <td>4.4</td>\n",
       "      <td>1438259</td>\n",
       "      <td>$0.00</td>\n",
       "      <td>{com.jsdfproductions.ctatrackerpro, com.alk.co...</td>\n",
       "      <td>17.0</td>\n",
       "      <td>8</td>\n",
       "      <td>...</td>\n",
       "      <td>0</td>\n",
       "      <td>0</td>\n",
       "      <td>1</td>\n",
       "      <td>0</td>\n",
       "      <td>0</td>\n",
       "      <td>0</td>\n",
       "      <td>0</td>\n",
       "      <td>0</td>\n",
       "      <td>1</td>\n",
       "      <td>0</td>\n",
       "    </tr>\n",
       "    <tr>\n",
       "      <th>1</th>\n",
       "      <td>Snowfall Live Wallpaper</td>\n",
       "      <td>fishnoodle.snowfall_free</td>\n",
       "      <td>Personalization</td>\n",
       "      <td>Snowfall Live Wallpaper: Wintertime on your ho...</td>\n",
       "      <td>4.3</td>\n",
       "      <td>18147</td>\n",
       "      <td>$0.00</td>\n",
       "      <td>{colfore.wallpaper.snowfree, com.tabsoft.wallp...</td>\n",
       "      <td>0.0</td>\n",
       "      <td>0</td>\n",
       "      <td>...</td>\n",
       "      <td>0</td>\n",
       "      <td>0</td>\n",
       "      <td>0</td>\n",
       "      <td>0</td>\n",
       "      <td>0</td>\n",
       "      <td>0</td>\n",
       "      <td>0</td>\n",
       "      <td>0</td>\n",
       "      <td>0</td>\n",
       "      <td>0</td>\n",
       "    </tr>\n",
       "    <tr>\n",
       "      <th>2</th>\n",
       "      <td>Aquarium Live Wallpaper</td>\n",
       "      <td>fishnoodle.aquarium_free</td>\n",
       "      <td>Personalization</td>\n",
       "      <td>A beautiful tropical fish tank live wallpaper!...</td>\n",
       "      <td>4.1</td>\n",
       "      <td>62145</td>\n",
       "      <td>$0.00</td>\n",
       "      <td>{com.convisual.lwp.fishometerlite, com.accessl...</td>\n",
       "      <td>0.0</td>\n",
       "      <td>0</td>\n",
       "      <td>...</td>\n",
       "      <td>0</td>\n",
       "      <td>0</td>\n",
       "      <td>0</td>\n",
       "      <td>0</td>\n",
       "      <td>0</td>\n",
       "      <td>0</td>\n",
       "      <td>0</td>\n",
       "      <td>0</td>\n",
       "      <td>0</td>\n",
       "      <td>0</td>\n",
       "    </tr>\n",
       "  </tbody>\n",
       "</table>\n",
       "<p>3 rows × 183 columns</p>\n",
       "</div>"
      ],
      "text/plain": [
       "                       App                       Package         Category  \\\n",
       "0              Google Maps  com.google.android.apps.maps   Travel & Local   \n",
       "1  Snowfall Live Wallpaper      fishnoodle.snowfall_free  Personalization   \n",
       "2  Aquarium Live Wallpaper      fishnoodle.aquarium_free  Personalization   \n",
       "\n",
       "                                         Description  Rating  \\\n",
       "0  Download the latest release of Google Maps, an...     4.4   \n",
       "1  Snowfall Live Wallpaper: Wintertime on your ho...     4.3   \n",
       "2  A beautiful tropical fish tank live wallpaper!...     4.1   \n",
       "\n",
       "   Number of ratings  Price  \\\n",
       "0            1438259  $0.00   \n",
       "1              18147  $0.00   \n",
       "2              62145  $0.00   \n",
       "\n",
       "                                        Related apps  \\\n",
       "0  {com.jsdfproductions.ctatrackerpro, com.alk.co...   \n",
       "1  {colfore.wallpaper.snowfree, com.tabsoft.wallp...   \n",
       "2  {com.convisual.lwp.fishometerlite, com.accessl...   \n",
       "\n",
       "   Dangerous permissions count  Safe permissions count  ...  \\\n",
       "0                         17.0                       8  ...   \n",
       "1                          0.0                       0  ...   \n",
       "2                          0.0                       0  ...   \n",
       "\n",
       "   Your personal information : read Browser's history and bookmarks (D)  \\\n",
       "0                                                  0                      \n",
       "1                                                  0                      \n",
       "2                                                  0                      \n",
       "\n",
       "   Your personal information : read calendar events (D)  \\\n",
       "0                                                  0      \n",
       "1                                                  0      \n",
       "2                                                  0      \n",
       "\n",
       "   Your personal information : read contact data (D)  \\\n",
       "0                                                  1   \n",
       "1                                                  0   \n",
       "2                                                  0   \n",
       "\n",
       "   Your personal information : read sensitive log data (D)  \\\n",
       "0                                                  0         \n",
       "1                                                  0         \n",
       "2                                                  0         \n",
       "\n",
       "   Your personal information : read user defined dictionary (D)  \\\n",
       "0                                                  0              \n",
       "1                                                  0              \n",
       "2                                                  0              \n",
       "\n",
       "   Your personal information : retrieve system internal state (S)  \\\n",
       "0                                                  0                \n",
       "1                                                  0                \n",
       "2                                                  0                \n",
       "\n",
       "   Your personal information : set alarm in alarm clock (S)  \\\n",
       "0                                                  0          \n",
       "1                                                  0          \n",
       "2                                                  0          \n",
       "\n",
       "   Your personal information : write Browser's history and bookmarks (D)  \\\n",
       "0                                                  0                       \n",
       "1                                                  0                       \n",
       "2                                                  0                       \n",
       "\n",
       "   Your personal information : write contact data (D)  \\\n",
       "0                                                  1    \n",
       "1                                                  0    \n",
       "2                                                  0    \n",
       "\n",
       "   Your personal information : write to user defined dictionary (S)  \n",
       "0                                                  0                 \n",
       "1                                                  0                 \n",
       "2                                                  0                 \n",
       "\n",
       "[3 rows x 183 columns]"
      ]
     },
     "execution_count": 4,
     "metadata": {},
     "output_type": "execute_result"
    }
   ],
   "source": [
    "df.head(n=3)"
   ]
  },
  {
   "cell_type": "markdown",
   "metadata": {},
   "source": [
    "### Part B: Convert each app into a \"document\" [0 points]\n",
    "\n",
    "The code below does the following:\n",
    "\n",
    "   * Filter out all the columns except the permission columns.\n",
    "   * Convert this dataframe into a numpy matrix.\n",
    "\n",
    "There are thus 180295 apps (documents) and 173 permissions (words).\n",
    "\n",
    "   - `X` is the \"document\" or \"word-frequency\" matrix.\n",
    "   - `permission_columns` contains the words ordered by their column index in X.\n",
    "   - `app_names` contains the application names ordered by their row index in X.\n",
    "   - `app_ratings` contains the *number* of application ratings (not the ratings themselves)."
   ]
  },
  {
   "cell_type": "code",
   "execution_count": 5,
   "metadata": {},
   "outputs": [
    {
     "name": "stderr",
     "output_type": "stream",
     "text": [
      "C:\\Users\\HEINZ\\Anaconda3\\envs\\py36\\lib\\site-packages\\ipykernel_launcher.py:5: FutureWarning: Method .as_matrix will be removed in a future version. Use .values instead.\n",
      "  \"\"\"\n"
     ]
    }
   ],
   "source": [
    "permission_columns = list(df.columns[10:])\n",
    "app_names = list(df[\"App\"])\n",
    "app_ratings = np.array(df[\"Number of ratings\"])\n",
    "df_perms = df[permission_columns]\n",
    "X = df_perms.as_matrix()\n",
    "del df # uncomment to free up RAM\n",
    "del df_perms # uncomment to free up RAM"
   ]
  },
  {
   "cell_type": "markdown",
   "metadata": {},
   "source": [
    "### Part C: Downweight \"stop-words\" [2.5 points]\n",
    "\n",
    "There are some permissions requested by almost all applications (like \"INTERNET\"), they are similar to stop-words (\"the\", \"and\", etc.) in natural language. We can downweight them by TF-IDF normalization.\n",
    "\n",
    "   * Use the `TfidfTransformer` class in `scikit-learn` to transform X."
   ]
  },
  {
   "cell_type": "code",
   "execution_count": 6,
   "metadata": {},
   "outputs": [],
   "source": [
    "########################################################################\n",
    "######################### Write your code here #########################\n",
    "from sklearn.feature_extraction.text import TfidfTransformer\n",
    "\n",
    "transformer = TfidfTransformer()\n",
    "X_transformed = transformer.fit_transform(X)\n",
    "########################################################################"
   ]
  },
  {
   "cell_type": "markdown",
   "metadata": {},
   "source": [
    "### Part D: Discover 10 \"topics\" [2.5 points]\n",
    "\n",
    "   * Use the `LatentDirichletAllocation` class in `scikit-learn` to fit 10 topics to the data.\n",
    "   * Use 10 max iterations, set `n_jobs=-1` to use all cores on your machine (if it helps).\n",
    "   * Feel free to understand and play around with other parameters.\n",
    "   * This may take around 3 minutes to run."
   ]
  },
  {
   "cell_type": "code",
   "execution_count": 7,
   "metadata": {},
   "outputs": [
    {
     "name": "stdout",
     "output_type": "stream",
     "text": [
      "Wall time: 3min 55s\n"
     ]
    }
   ],
   "source": [
    "%%time\n",
    "########################################################################\n",
    "######################### Write your code here #########################\n",
    "from sklearn.decomposition import LatentDirichletAllocation\n",
    "\n",
    "lda = LatentDirichletAllocation(n_components = 10, n_jobs=-1, max_iter=10)\n",
    "model = lda.fit(X_transformed)\n",
    "########################################################################"
   ]
  },
  {
   "cell_type": "markdown",
   "metadata": {},
   "source": [
    "Now each app can be viewed as a distribution over these 10 topics, and each topic is a distribution over all the permissions in the data."
   ]
  },
  {
   "cell_type": "markdown",
   "metadata": {},
   "source": [
    "### Part E: List the top 10 \"words\" in each topic [15 points]\n",
    "\n",
    "Do any of the topics correspond to meaningful app \"purposes\"? List the ones you find meaningful below:\n",
    "\n",
    "   * Topic #i: \"your interpretation\""
   ]
  },
  {
   "cell_type": "code",
   "execution_count": 8,
   "metadata": {
    "scrolled": true
   },
   "outputs": [
    {
     "name": "stdout",
     "output_type": "stream",
     "text": [
      "Displaying the top 10 app purposes per topic:\n",
      "\n",
      "Topic  0:\n",
      "Your personal information : read contact data (D), Services that cost you money : send SMS messages (D), Your accounts : discover known accounts (S), Your messages : receive SMS (D), Phone calls : read phone state and identity (D), Your personal information : write contact data (D), Your messages : read SMS or MMS (D), Network communication : full Internet access (D), Phone calls : intercept outgoing calls (D), Services that cost you money : directly call phone numbers (D). \n",
      "\n",
      "Topic  1:\n",
      "Hardware controls : take pictures and videos (D), System tools : automatically start at boot (S), Network communication : receive data from Internet (S), Storage : modify/delete USB storage contents modify/delete SD card contents (D), Network communication : view network state (S), Hardware controls : control vibrator (S), Network communication : full Internet access (D), Phone calls : read phone state and identity (D), System tools : prevent device from sleeping (D), Your location : fine (GPS) location (D). \n",
      "\n",
      "Topic  2:\n",
      "System tools : set wallpaper (S), System tools : prevent device from sleeping (D), Network communication : full Internet access (D), Network communication : view network state (S), System tools : retrieve running applications (D), Storage : modify/delete USB storage contents modify/delete SD card contents (D), Phone calls : read phone state and identity (D), System tools : mount and unmount filesystems (D), System tools : kill background processes (S), System tools : set wallpaper size hints (S). \n",
      "\n",
      "Topic  3:\n",
      "Hardware controls : record audio (D), Hardware controls : change your audio settings (D), System tools : change Wi-Fi state (D), Network communication : view Wi-Fi state (S), Storage : modify/delete USB storage contents modify/delete SD card contents (D), Network communication : full Internet access (D), Network communication : view network state (S), Hardware controls : control vibrator (S), System tools : prevent device from sleeping (D), Phone calls : read phone state and identity (D). \n",
      "\n",
      "Topic  4:\n",
      "System tools : automatically start at boot (S), Your personal information : read calendar events (D), Your personal information : add or modify calendar events and send email to guests (D), Hardware controls : control vibrator (S), System tools : disable keylock (D), System tools : prevent device from sleeping (D), Your personal information : read Browser's history and bookmarks (D), Phone calls : read phone state and identity (D), Network communication : view network state (S), Your personal information : write Browser's history and bookmarks (D). \n",
      "\n",
      "Topic  5:\n",
      "Storage : modify/delete USB storage contents modify/delete SD card contents (D), Network communication : full Internet access (D), Network communication : view Wi-Fi state (S), Network communication : view network state (S), Phone calls : read phone state and identity (D), Default : directly install applications (S), System tools : prevent device from sleeping (D), Default : delete applications (S), System tools : change background data usage setting (S), Hardware controls : control vibrator (S). \n",
      "\n",
      "Topic  6:\n",
      "Your location : fine (GPS) location (D), Your location : coarse (network-based) location (D), Network communication : full Internet access (D), Services that cost you money : directly call phone numbers (D), Network communication : view network state (S), Phone calls : read phone state and identity (D), Storage : modify/delete USB storage contents modify/delete SD card contents (D), Your location : mock location sources for testing (D), Your location : access extra location provider commands (S), Network communication : view Wi-Fi state (S). \n",
      "\n",
      "Topic  7:\n",
      "Phone calls : read phone state and identity (D), Network communication : full Internet access (D), Network communication : view network state (S), Storage : modify/delete USB storage contents modify/delete SD card contents (D), System tools : prevent device from sleeping (D), System tools : modify global system settings (D), Hardware controls : control vibrator (S), System tools : change your UI settings (D), Default : Access download manager. (S), Default : read phone state and identity (S). \n",
      "\n",
      "Topic  8:\n",
      "Network communication : full Internet access (D), Hardware controls : control vibrator (S), Default : set wallpaper size hints (S), Default : Modify Google service configuration (S), Network communication : view network state (S), Storage : modify/delete USB storage contents modify/delete SD card contents (D), System tools : prevent device from sleeping (D), Phone calls : read phone state and identity (D), Your location : coarse (network-based) location (D), Your location : fine (GPS) location (D). \n",
      "\n",
      "Topic  9:\n",
      "Network communication : view network state (S), Network communication : full Internet access (D), Your accounts : YouTube (D), Default : full Internet access (S), Default : act as an account authenticator (S), Default : Voice Search Shortcuts (S), Default : Modify Google settings (S), Default : Read Google settings (S), Services that cost you money : directly call phone numbers (D), Your accounts : YouTube usernames (D). \n",
      "\n"
     ]
    }
   ],
   "source": [
    "########################################################################\n",
    "######################### Write your code here #########################\n",
    "import numpy as np\n",
    "\n",
    "num_top_purposes = 10\n",
    "\n",
    "purpose_distributions = np.array([purpose_pseudocounts / np.sum(purpose_pseudocounts) \n",
    "                                  for purpose_pseudocounts in model.components_])\n",
    "\n",
    "print('Displaying the top %d app purposes per topic:' % num_top_purposes)\n",
    "print()\n",
    "\n",
    "for topic_idx in range(model.components_.shape[0]):\n",
    "    print('Topic ', topic_idx, end = ':\\n')\n",
    "    sort_indices = np.argsort(purpose_distributions[topic_idx])[::-1]\n",
    "    for rank in range(num_top_purposes):\n",
    "        purpose_idx = sort_indices[rank]\n",
    "        if rank == 9:\n",
    "            print(permission_columns[purpose_idx], end = '. ')\n",
    "        else: \n",
    "            print(permission_columns[purpose_idx], end = ', ')\n",
    "    print('\\n')\n",
    "########################################################################"
   ]
  },
  {
   "cell_type": "markdown",
   "metadata": {},
   "source": [
    "Some related permissions are common amongst the topics, e.g. access to internet, network state. This indicates that these apps are internet enabled. Though these permissions are common amongst the topics, some of the topics appear to be meaniful from the app permissions they request. \n",
    "\n",
    "Topic 2: Appears to be a eevent social because of request to read and modify calendar events.\n",
    "\n",
    "Topic 3: Appears to be an enterprise application because of request to modify google settings.\n",
    "\n",
    "Topic 4: Appears to be related to communication apps because of the app permisions to write contact data, intercept phone calls, send or read SMS, network and internet access and so on\n",
    "\n",
    "Topic 7: Appears to be network app because of request to discover known accounts\n",
    "\n",
    "Topic 8: Appears to be a communication app because of request to call phone numbers, and use services that cost money (voice call/SMS perhaps)"
   ]
  },
  {
   "cell_type": "markdown",
   "metadata": {},
   "source": [
    "### Part F: For each topic, list the top 3 apps with at least 100000 ratings having the highest probability assigned to that topic [15 points]\n",
    "\n",
    "   - This further helps us understand what the topics actually mean.\n",
    "   - However, the data is noisy and this exercise may result in listing a bunch of obscure apps.\n",
    "   - Hence, filtering out all apps with less than 100000 ratings may help."
   ]
  },
  {
   "cell_type": "code",
   "execution_count": 9,
   "metadata": {},
   "outputs": [
    {
     "name": "stdout",
     "output_type": "stream",
     "text": [
      "Topic  0:\n",
      "Zynga Poker\n",
      "Horoscope\n",
      "chompSMS\n",
      "\n",
      "Topic  1:\n",
      "Seesmic (Facebook, Twitter)\n",
      "Tiny Flashlight + LED\n",
      "eBuddy Messenger\n",
      "\n",
      "Topic  2:\n",
      "Wallpapers HD\n",
      "Robo Defense FREE\n",
      "Strip Poker\n",
      "\n",
      "Topic  3:\n",
      "Skype\n",
      "WhatsApp Messenger\n",
      "Tango Voice & Video Calls\n",
      "\n",
      "Topic  4:\n",
      "Bible\n",
      "Dolphin Browser™ HD\n",
      "Dolphin Browser??? HD\n",
      "\n",
      "Topic  5:\n",
      "Racing Moto\n",
      "Fruit Slice\n",
      "SpeechSynthesis Data Installer\n",
      "\n",
      "Topic  6:\n",
      "Toss It\n",
      "Dictionary.com\n",
      "Air Control Lite\n",
      "\n",
      "Topic  7:\n",
      "Real BlackJack\n",
      "Vaulty Free Hides Pictures\n",
      "Live Holdem Poker Pro\n",
      "\n",
      "Topic  8:\n",
      "Adobe Reader\n",
      "Mouse Trap\n",
      "Drag Racing\n",
      "\n",
      "Topic  9:\n",
      "Angry Birds Seasons\n",
      "Yoo Ninja! Free\n",
      "Adobe Flash Player 11\n",
      "\n"
     ]
    },
    {
     "name": "stderr",
     "output_type": "stream",
     "text": [
      "C:\\Users\\HEINZ\\Anaconda3\\envs\\py36\\lib\\site-packages\\ipykernel_launcher.py:11: FutureWarning: Method .as_matrix will be removed in a future version. Use .values instead.\n",
      "  # This is added back by InteractiveShellApp.init_path()\n"
     ]
    }
   ],
   "source": [
    "########################################################################\n",
    "######################### Write your code here #########################\n",
    "#to filter out app data with reviews less than 100k get app index to remove from matrix\n",
    "index_list = []\n",
    "for index, each_rating in enumerate(app_ratings):\n",
    "    if each_rating > 100000:\n",
    "        index_list.append(index)\n",
    "        \n",
    "temp_df = pd.DataFrame(X)        \n",
    "filtered_df = temp_df.iloc[index_list, :]\n",
    "X_filtered = filtered_df.as_matrix()\n",
    "del temp_df\n",
    "\n",
    "X_f_transformed = transformer.fit_transform(X_filtered)\n",
    "filtered_app_names =  [app_names[index] for index in index_list]  \n",
    "\n",
    "topic_dist_over_apps = lda.transform(X_f_transformed)\n",
    "top_n_apps = 3\n",
    "\n",
    "for each_topic in range(topic_dist_over_apps.shape[1]):\n",
    "    print('Topic ', each_topic, end = ':\\n')\n",
    "    sorted_apps = np.argsort(topic_dist_over_apps[:, each_topic])[::-1]\n",
    "    for rank in range(top_n_apps):\n",
    "        app_index = sorted_apps[rank]\n",
    "        print(filtered_app_names[app_index], end='\\n')\n",
    "    print()\n",
    "########################################################################"
   ]
  },
  {
   "cell_type": "markdown",
   "metadata": {},
   "source": [
    "### Part G: Visualize the document-topic proportion matrix in 2-D using t-SNE [10 points]\n",
    "\n",
    "Does our reduced dimensional space contain any structure? Visualize the documents (in the topic-space) using t-SNE.\n",
    "\n",
    "   * Use `TSNE` from `scikit-learn`.\n",
    "   * Set the angle to 0.99 and init to 'PCA'. Pick any learning rate that gives you a visually pleasing result.\n",
    "   * You may `fit` TSNE to a sample of the data (>1000 documents) instead of the full data.\n",
    "   * Remember to call `fit_transform` to obtain your 2-D data.\n",
    "   * Plot the t-SNE dimensions as a scatterplot.\n",
    "   * Color each point based on its most probable topic. Make sure you include a legend (10 colors).\n",
    "   \n",
    "Clusters in the t-SNE plot indicate groups of apps that have similar topics."
   ]
  },
  {
   "cell_type": "code",
   "execution_count": 62,
   "metadata": {
    "scrolled": true
   },
   "outputs": [
    {
     "name": "stdout",
     "output_type": "stream",
     "text": [
      "Wall time: 19.3 s\n"
     ]
    },
    {
     "data": {
      "image/png": "[encoded data removed]",
      "text/plain": [
       "<Figure size 432x288 with 1 Axes>"
      ]
     },
     "metadata": {
      "needs_background": "light"
     },
     "output_type": "display_data"
    }
   ],
   "source": [
    "%%time\n",
    "########################################################################\n",
    "######################### Write your code here #########################\n",
    "from sklearn.manifold import TSNE\n",
    "\n",
    "tsne = TSNE(angle=0.99, init='pca', learning_rate=200)\n",
    "\n",
    "doc_topic_model = lda.transform(X_transformed)\n",
    "\n",
    "sample_data = np.random.permutation(doc_topic_model.shape[0])[:1100]\n",
    "tsne_model = tsne.fit_transform(doc_topic_model[sample_data])\n",
    "\n",
    "color = [point.argmax() for point in doc_topic_model[sample_data]] #create color list\n",
    "legend = ['Topic {}'.format(topic.argmax()) for topic in doc_topic_model[sample_data]]  #create legend list\n",
    "zip_legend_color = set(zip(color, legend)) #zip list and remove duplicates\n",
    "\n",
    "tsne_plot = plt.scatter(tsne_model[:, 0], tsne_model[:, 1], cmap='Spectral',c=color) \n",
    "handles = [plt.plot([], color=tsne_plot.get_cmap()(tsne_plot.norm(color)), ls = '', marker ='o')[0] for color, legend in zip_legend_color]\n",
    "legend = [legend for color, legend in zip_legend_color]\n",
    "plt.legend(handles, legend)\n",
    "plt.axis('equal')\n",
    "########################################################################"
   ]
  },
  {
   "cell_type": "markdown",
   "metadata": {},
   "source": [
    "## Question 3: Questionnaire [5 points]\n",
    "\n",
    "Please answer this survey after you have done this homework: https://goo.gl/forms/qi1acwKwxSfNJfjt1"
   ]
  }
 ],
 "metadata": {
  "kernelspec": {
   "display_name": "Python 3",
   "language": "python",
   "name": "python3"
  },
  "language_info": {
   "codemirror_mode": {
    "name": "ipython",
    "version": 3
   },
   "file_extension": ".py",
   "mimetype": "text/x-python",
   "name": "python",
   "nbconvert_exporter": "python",
   "pygments_lexer": "ipython3",
   "version": "3.6.8"
  }
 },
 "nbformat": 4,
 "nbformat_minor": 2
}
